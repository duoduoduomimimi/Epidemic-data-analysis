{
 "cells": [
  {
   "cell_type": "code",
   "execution_count": 23,
   "id": "008e6636",
   "metadata": {},
   "outputs": [],
   "source": [
    "import requests"
   ]
  },
  {
   "cell_type": "code",
   "execution_count": 24,
   "id": "62c21c59",
   "metadata": {},
   "outputs": [],
   "source": [
    "AK = \"cvtGl9H0Dr2O4o56H4oKioOgY1xbNqlv\""
   ]
  },
  {
   "cell_type": "code",
   "execution_count": 25,
   "id": "e00ed1d1",
   "metadata": {},
   "outputs": [],
   "source": [
    "def change(name):\n",
    "    url = 'http://api.map.baidu.com/geocoding/v3/?address=%s&output=json&ak=%s' % (name, AK)\n",
    "    res = requests.get(url)\n",
    "    if res.status_code == 200:\n",
    "        val = res.json()\n",
    "        if val[\"status\"] == 0:\n",
    "            retval = {'地址': name, '经度': val['result']['location']['lng'], '纬度': val['result']['location']['lat'],\n",
    "                      '地区标签': val['result']['level'], '是否精确查找': val['result']['precise']}\n",
    "        else:\n",
    "            retval = None\n",
    "        return retval\n",
    "    else:\n",
    "        print('无法获取%s经纬度' % name)"
   ]
  },
  {
   "cell_type": "code",
   "execution_count": 26,
   "id": "a57c510d",
   "metadata": {},
   "outputs": [
    {
     "name": "stdout",
     "output_type": "stream",
     "text": [
      "None\n"
     ]
    }
   ],
   "source": [
    "print(change('故宫博物院'))"
   ]
  },
  {
   "cell_type": "code",
   "execution_count": null,
   "id": "ccee63a5",
   "metadata": {},
   "outputs": [],
   "source": []
  }
 ],
 "metadata": {
  "kernelspec": {
   "display_name": "Python 3 (ipykernel)",
   "language": "python",
   "name": "python3"
  },
  "language_info": {
   "codemirror_mode": {
    "name": "ipython",
    "version": 3
   },
   "file_extension": ".py",
   "mimetype": "text/x-python",
   "name": "python",
   "nbconvert_exporter": "python",
   "pygments_lexer": "ipython3",
   "version": "3.9.12"
  }
 },
 "nbformat": 4,
 "nbformat_minor": 5
}
